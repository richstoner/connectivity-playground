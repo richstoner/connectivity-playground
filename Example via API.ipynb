{
 "metadata": {
  "name": ""
 },
 "nbformat": 3,
 "nbformat_minor": 0,
 "worksheets": [
  {
   "cells": [
    {
     "cell_type": "markdown",
     "metadata": {},
     "source": [
      "### Deliverable #2 - ontology items in, matrix out\n",
      "\n",
      "Extending this idea, it should work as follows: identify regions in ontology, pass ontology ids of inputs & outputs to webserver, get back either a) matrix of single voxel values or b) visualization of expression heatmap\n",
      "\n",
      "Let's make this easier:\n",
      "\n",
      "You give me a list of acronyms from the AIBS ontology (http://atlas.brain-map.org/)\n",
      "   \n",
      "For inputs\n",
      "\n",
      "    Query API for list of injections in the anatomic region\n",
      "    Download list of expression grid data for injection set\n",
      "    \n",
      "For outputs\n",
      "\n",
      "    Convert the acronym to ontology id\n",
      "    Extract the corresponding branch of the ontology\n",
      "    Flatten that branch into a list of ontology ids\n",
      "    Mask the annotation volume to generate a set of coordinates\n",
      "    \n",
      "    Extract expression values from output coordinates and place into matrix\n",
      "\n",
      "Bonus points: organize by ontology order and generate colored sidebars as seen in Figure 3."
     ]
    },
    {
     "cell_type": "code",
     "collapsed": false,
     "input": [
      "import zipfile, io\n",
      "import matplotlib\n",
      "from matplotlib import cm\n",
      "import numpy.ma as ma\n",
      "import json\n",
      "import requests"
     ],
     "language": "python",
     "metadata": {},
     "outputs": [],
     "prompt_number": 1
    },
    {
     "cell_type": "code",
     "collapsed": false,
     "input": [
      "### Example regions\n",
      "# LAT -> MOs\n",
      "input_names = ['LAT']\n",
      "output_names = ['MOs']"
     ],
     "language": "python",
     "metadata": {},
     "outputs": [],
     "prompt_number": 2
    },
    {
     "cell_type": "code",
     "collapsed": false,
     "input": [
      "# Query via structure search\n",
      "\n",
      "structure_search = 'http://api.brain-map.org/api/v2/data/query.json?criteria=service::mouse_connectivity_injection_structure[injection_structures$eq%s][primary_structure_only$eqtrue]'\n",
      "s_query = structure_search % (input_names[0])\n",
      "\n",
      "experiment_list = requests.get(s_query).json()['msg']\n",
      "print 'Found %d experiments with %s as the injection site' % (len(experiment_list), input_names[0])\n"
     ],
     "language": "python",
     "metadata": {},
     "outputs": [
      {
       "output_type": "stream",
       "stream": "stdout",
       "text": [
        "Found 22 experiments with LAT as the injection site\n"
       ]
      }
     ],
     "prompt_number": 5
    },
    {
     "cell_type": "code",
     "collapsed": false,
     "input": [
      "# Here's what a single experiment looks like\n",
      "experiment_list[0]"
     ],
     "language": "python",
     "metadata": {},
     "outputs": [
      {
       "metadata": {},
       "output_type": "pyout",
       "prompt_number": 64,
       "text": [
        "{u'gender': u'M',\n",
        " u'id': 267999740,\n",
        " u'injection-coordinates': [7600, 3600, 6900],\n",
        " u'injection-structures': [{u'abbreviation': u'APN',\n",
        "   u'color': u'FF90FF',\n",
        "   u'id': 215,\n",
        "   u'name': u'Anterior pretectal nucleus'},\n",
        "  {u'abbreviation': u'LP',\n",
        "   u'color': u'FF909F',\n",
        "   u'id': 218,\n",
        "   u'name': u'Lateral posterior nucleus of the thalamus'},\n",
        "  {u'abbreviation': u'DG',\n",
        "   u'color': u'7ED04B',\n",
        "   u'id': 726,\n",
        "   u'name': u'Dentate gyrus'},\n",
        "  {u'abbreviation': u'PO',\n",
        "   u'color': u'FF909F',\n",
        "   u'id': 1020,\n",
        "   u'name': u'Posterior complex of the thalamus'}],\n",
        " u'injection-volume': u'0.237307',\n",
        " u'name': u'Grik4-Cre-5129',\n",
        " u'num-voxels': 489053,\n",
        " u'strain': u'B6.Cg',\n",
        " u'structure-abbrev': u'PO',\n",
        " u'structure-color': u'FF909F',\n",
        " u'structure-id': 1020,\n",
        " u'structure-name': u'Posterior complex of the thalamus',\n",
        " u'sum': u'7.40048',\n",
        " u'transgenic-line': u'Grik4-Cre'}"
       ]
      }
     ],
     "prompt_number": 64
    },
    {
     "cell_type": "code",
     "collapsed": false,
     "input": [
      "#Now lets grab all of the expression volumes \n",
      "\n",
      "all_expression = []\n",
      "\n",
      "for experiment in experiment_list[0:4]:\n",
      "    print experiment['id']\n",
      "    experiment_summary = {}\n",
      "    \n",
      "    # Download the corresponding expression grid\n",
      "    example_api_query = 'http://api.brain-map.org/grid_data/download/%d?include=intensity,density' % (experiment['id'])\n",
      "    r = requests.get(example_api_query)\n",
      "    \n",
      "    memfile = io.BytesIO(r.content)\n",
      "    zfile = zipfile.ZipFile(memfile, 'r')\n",
      "    for name in zfile.namelist():\n",
      "        if name == 'density.raw':\n",
      "            dt = np.dtype('<f') # little endian, float32\n",
      "            rawArray = np.fromstring(zfile.read(name), dtype=dt)\n",
      "            expressionArray = rawArray.reshape(115,81,133)   # as opposed to 67, 41, 58?    \n",
      "            #imshow(expressionArray[:,:,20].T, cmap = cm.jet) # show coronal plane, rotated (transpose)\n",
      "            \n",
      "            experiment_summary = experiment\n",
      "            experiment_summary['expression'] = expressionArray\n",
      "            \n",
      "            all_expression.append(experiment_summary)\n",
      "            \n",
      "#     if name =='density.mhd':\n",
      "#         pass\n",
      "#         print(zfile.read(name))            "
     ],
     "language": "python",
     "metadata": {},
     "outputs": [
      {
       "output_type": "stream",
       "stream": "stdout",
       "text": [
        "267999740\n",
        "182805258"
       ]
      },
      {
       "output_type": "stream",
       "stream": "stdout",
       "text": [
        "\n",
        "146658879"
       ]
      },
      {
       "output_type": "stream",
       "stream": "stdout",
       "text": [
        "\n",
        "113846682"
       ]
      },
      {
       "output_type": "stream",
       "stream": "stdout",
       "text": [
        "\n"
       ]
      }
     ],
     "prompt_number": 67
    },
    {
     "cell_type": "code",
     "collapsed": false,
     "input": [
      "# visualizing the first of many expression volumes\n",
      "imshow(all_expression[0]['expression'][:,:,20].T, cmap = cm.jet) # show coronal plane, rotated (transpose)"
     ],
     "language": "python",
     "metadata": {},
     "outputs": [
      {
       "metadata": {},
       "output_type": "pyout",
       "prompt_number": 72,
       "text": [
        "<matplotlib.image.AxesImage at 0x10a860ed0>"
       ]
      },
      {
       "metadata": {},
       "output_type": "display_data",
       "png": "[encoded data removed]",
       "text": [
        "<matplotlib.figure.Figure at 0x110278110>"
       ]
      }
     ],
     "prompt_number": 72
    },
    {
     "cell_type": "markdown",
     "metadata": {},
     "source": [
      "## Generating the output mask\n",
      "\n",
      "We only care about voxels in the output anatomic region. This can't be done via API.\n",
      "\n",
      "First, convert the acronym from the output region into its ontology id"
     ]
    },
    {
     "cell_type": "code",
     "collapsed": false,
     "input": [
      "# extract the branch of the ontology graph (json)\n",
      "def extractOntology(jsn, target):\n",
      "    if jsn['acronym'] == target:\n",
      "        return jsn\n",
      "    else:\n",
      "        jsn_to_return = None\n",
      "        for child in jsn['children']:\n",
      "            ret = extractOntology(child, target)\n",
      "            if ret:\n",
      "                return ret\n",
      "    return None    \n",
      "\n",
      "# flattens the ontology into a list\n",
      "def parseOntology(jsn, structures={}, gOrder=0):\n",
      "    i = jsn['id']\n",
      "    n = jsn[\"name\"]\n",
      "    p = jsn[\"parent_structure_id\"]\n",
      "    c = jsn['color_hex_triplet']\n",
      "    a = jsn['acronym']\n",
      "\n",
      "    struct = {\"id\":i, \"name\":n, \"order\":gOrder, \"parent\":p, \"color\": c, 'acronym': a}\n",
      "    structures[i] = struct\n",
      "    for child in jsn[\"children\"]:\n",
      "        parseOntology(child, structures, gOrder = gOrder + 1)\n",
      "        "
     ],
     "language": "python",
     "metadata": {},
     "outputs": [],
     "prompt_number": 17
    },
    {
     "cell_type": "code",
     "collapsed": false,
     "input": [
      "# Downloading the complete ontology via API\n",
      "full_ontology_url = 'http://api.brain-map.org/api/v2/structure_graph_download/1.json'\n",
      "full_ontology = requests.get(full_ontology_url).json()['msg'][0]"
     ],
     "language": "python",
     "metadata": {},
     "outputs": [],
     "prompt_number": 18
    },
    {
     "cell_type": "markdown",
     "metadata": {},
     "source": [
      "### Extract the corresponding branch of the ontology, flatten it"
     ]
    },
    {
     "cell_type": "code",
     "collapsed": false,
     "input": [
      "# do the same thing for the output regions\n",
      "output_ontology = extractOntology(full_ontology, output_names[0])\n",
      "\n",
      "# flatten it\n",
      "output_list = {}\n",
      "parseOntology(output_ontology, output_list)\n",
      "\n",
      "# the keys are the respective ontology ids for each anatomic region\n",
      "output_ontology_ids = output_list.keys()"
     ],
     "language": "python",
     "metadata": {},
     "outputs": [],
     "prompt_number": 75
    },
    {
     "cell_type": "code",
     "collapsed": false,
     "input": [
      "# and going to ontology regions:\n",
      "print 'Outputs:', output_ontology_ids"
     ],
     "language": "python",
     "metadata": {},
     "outputs": [
      {
       "output_type": "stream",
       "stream": "stdout",
       "text": [
        "Outputs: [993, 962, 1021, 656, 1085, 767]\n"
       ]
      }
     ],
     "prompt_number": 76
    },
    {
     "cell_type": "markdown",
     "metadata": {},
     "source": [
      "### Get injection coordinates for each ontology id"
     ]
    },
    {
     "cell_type": "code",
     "collapsed": false,
     "input": [
      "# grab the annotation volume from AIBS and unpack it. \n",
      "# We're using a cached version to minimize downloading the same thing\n",
      "atlasVolume = fromfile(\"gridAnnotation_100micron/gridAnnotation.raw\", dtype=uint32).reshape(115,81,133)  # (133, 81, 115)\n",
      "imshow(atlasVolume[:,:,20].T, cmap = cm.jet) # show coronal plane, rotated (transpose)"
     ],
     "language": "python",
     "metadata": {},
     "outputs": [
      {
       "metadata": {},
       "output_type": "pyout",
       "prompt_number": 54,
       "text": [
        "<matplotlib.image.AxesImage at 0x109f6b1d0>"
       ]
      },
      {
       "metadata": {},
       "output_type": "display_data",
       "png": "[encoded data removed]",
       "text": [
        "<matplotlib.figure.Figure at 0x10b13ab10>"
       ]
      }
     ],
     "prompt_number": 54
    },
    {
     "cell_type": "code",
     "collapsed": false,
     "input": [
      "# easy to figure out each ontology id at any index\n",
      "atlasVolume[70, 40, 20]"
     ],
     "language": "python",
     "metadata": {},
     "outputs": [
      {
       "metadata": {},
       "output_type": "pyout",
       "prompt_number": 77,
       "text": [
        "900"
       ]
      }
     ],
     "prompt_number": 77
    },
    {
     "cell_type": "code",
     "collapsed": false,
     "input": [
      "# extract output coordinates \n",
      "output_coordinates = []\n",
      "\n",
      "for out_id in output_ontology_ids:\n",
      "    v = numpy.where(atlasVolume == out_id)\n",
      "    for c in xrange(len(v[0])):    \n",
      "        coord = (v[0][c], v[1][c], v[2][c])\n",
      "        output_coordinates.append([out_id, coord])\n",
      "        \n",
      "# just to demonstrate what we have now\n",
      "print 'Example output coord:', output_coordinates[0]"
     ],
     "language": "python",
     "metadata": {},
     "outputs": [
      {
       "output_type": "stream",
       "stream": "stdout",
       "text": [
        "Example output coord: [962, (31, 28, 28)]\n"
       ]
      }
     ],
     "prompt_number": 78
    },
    {
     "cell_type": "code",
     "collapsed": false,
     "input": [
      "# mask the density volume with output coordinates and write to a file\n",
      "\n",
      "masked_array = numpy.zeros_like(atlasVolume)\n",
      "\n",
      "csv_out = open('output.csv', 'w')\n",
      "\n",
      "# column headers\n",
      "csv_out.write('injection_onto_id, flatten_idx, x,y,z')\n",
      "\n",
      "# experiment ids (we could use any thing from the experiment metadata here instead)\n",
      "for exp in all_expression:\n",
      "    csv_out.write(', %d' % exp['id'])\n",
      "\n",
      "csv_out.write('\\n')\n",
      "\n",
      "for cc in output_coordinates:\n",
      "    c = cc[1]\n",
      "    flattened_c = c[2] * (115 * 81) + c[1] * 115 + c[0]\n",
      "    \n",
      "    csv_out.write('%d, %d, %d, %d, %d' % (cc[0], flattened_c, c[0], c[1], c[2]))\n",
      "    for exp in all_expression:\n",
      "        expressionArray = exp['expression']\n",
      "        csv_out.write(',%f' % expressionArray[c[0]][c[1]][c[2]])\n",
      "    \n",
      "    csv_out.write('\\n')              \n",
      "                  \n",
      "csv_out.close()\n",
      "    "
     ],
     "language": "python",
     "metadata": {},
     "outputs": [],
     "prompt_number": 74
    },
    {
     "cell_type": "markdown",
     "metadata": {},
     "source": [
      "## Unused code from earlier attempts"
     ]
    },
    {
     "cell_type": "code",
     "collapsed": false,
     "input": [
      "# A nice encapsulation of the annotation library\n",
      "\n",
      "class AtlasDereference(object):\n",
      "    def __init__(self):\n",
      "        self.atlasVolume = fromfile(\"gridAnnotation_100micron/gridAnnotation.raw\", dtype=uint32).reshape((115, 81, 133)).T # (133, 81, 115)\n",
      "\n",
      "        self.ont = {}\n",
      "        jsn = json.load(open(\"gridAnnotation_100micron/1.json\"))\n",
      "        parseOntology(jsn[\"msg\"][0], self.ont)\n",
      "        \n",
      "        deepestNode = -1\n",
      "        for struct in self.ont.values():\n",
      "            if struct[\"order\"] > deepestNode:\n",
      "                deepestNode = struct[\"order\"]\n",
      "\n",
      "        # print deepestNodecolor_hex_triplet\n",
      "\n",
      "    def idAtPoint(self, point):\n",
      "        indx = around(point).astype(int)\n",
      "        return self.atlasVolume[tuple(indx)]\n",
      "\n",
      "    def nameAtPoint(self, point, level):        \n",
      "        return self.infoAtPoint(point, level)[\"name\"]\n",
      "\n",
      "    def infoAtPoint(self, point, level):\n",
      "        id = self.idAtPoint(point)\n",
      "        info = self.ont[id]\n",
      "        while info[\"order\"] > level:\n",
      "            info = self.ont[info[\"parent\"]]\n",
      "        return info\n",
      "\n",
      "    def colorAtPoint(self, point, level):\n",
      "        return self.infoAtPoint(point, level)[\"color\"]\n",
      "\n",
      "    def ontologyForAcronym(self, a):\n",
      "        for k,v in self.ont.iteritems():\n",
      "            if a == v['acronym']:\n",
      "                return v\n",
      "        return None\n",
      "    \n",
      "\n",
      "# helpful to convert colors to html-happy representation\n",
      "HEX = '0123456789abcdef'\n",
      "HEX2 = dict((a+b, HEX.index(a)*16 + HEX.index(b)) for a in HEX for b in HEX)\n",
      "\n",
      "def rgb(triplet):\n",
      "    triplet = triplet.lower()\n",
      "    return (HEX2[triplet[0:2]]/255.0, HEX2[triplet[2:4]]/255.0, HEX2[triplet[4:6]]/255.0)\n"
     ],
     "language": "python",
     "metadata": {},
     "outputs": [],
     "prompt_number": 79
    },
    {
     "cell_type": "code",
     "collapsed": false,
     "input": [
      "# instantiate\n",
      "ad = AtlasDereference()"
     ],
     "language": "python",
     "metadata": {},
     "outputs": [],
     "prompt_number": 81
    },
    {
     "cell_type": "code",
     "collapsed": false,
     "input": [
      "# ontology id at a voxel coordinate\n",
      "ad.idAtPoint((40,40,40))"
     ],
     "language": "python",
     "metadata": {},
     "outputs": [
      {
       "metadata": {},
       "output_type": "pyout",
       "prompt_number": 82,
       "text": [
        "672"
       ]
      }
     ],
     "prompt_number": 82
    },
    {
     "cell_type": "code",
     "collapsed": false,
     "input": [
      "# some metadata for the anatomic region at a voxel coordinate\n",
      "ad.infoAtPoint((40,40,40), 5)"
     ],
     "language": "python",
     "metadata": {},
     "outputs": [
      {
       "metadata": {},
       "output_type": "pyout",
       "prompt_number": 83,
       "text": [
        "{'acronym': u'STRd',\n",
        " 'color': u'98D6F9',\n",
        " 'id': 485,\n",
        " 'name': u'Striatum dorsal region',\n",
        " 'order': 5,\n",
        " 'parent': 477}"
       ]
      }
     ],
     "prompt_number": 83
    },
    {
     "cell_type": "code",
     "collapsed": false,
     "input": [
      "# just the color\n",
      "ad.colorAtPoint((40,40,40), 5)"
     ],
     "language": "python",
     "metadata": {},
     "outputs": [
      {
       "metadata": {},
       "output_type": "pyout",
       "prompt_number": 84,
       "text": [
        "u'98D6F9'"
       ]
      }
     ],
     "prompt_number": 84
    },
    {
     "cell_type": "code",
     "collapsed": false,
     "input": [
      "# if i give you an acronym, give me back the ontology branch and leaves\n",
      "\n",
      "acronym_test = 'HPF'\n",
      "ac_get = ad.ontologyForAcronym(acronym_test)\n",
      "ac_get"
     ],
     "language": "python",
     "metadata": {},
     "outputs": [
      {
       "metadata": {},
       "output_type": "pyout",
       "prompt_number": 86,
       "text": [
        "{'acronym': u'HPF',\n",
        " 'color': u'7ED04B',\n",
        " 'id': 1089,\n",
        " 'name': u'Hippocampal formation',\n",
        " 'order': 5,\n",
        " 'parent': 695}"
       ]
      }
     ],
     "prompt_number": 86
    },
    {
     "cell_type": "code",
     "collapsed": false,
     "input": [
      "# load the complete ontology to work with locally\n",
      "jsn = json.load(open(\"gridAnnotation_100micron/1.json\"))[\"msg\"][0]"
     ],
     "language": "python",
     "metadata": {},
     "outputs": [],
     "prompt_number": 87
    },
    {
     "cell_type": "code",
     "collapsed": false,
     "input": [
      "# extract a branch, then flatten it\n",
      "hpf_ontology = extractOntology(jsn, acronym_test)\n",
      "\n",
      "hpf_flat = {}\n",
      "\n",
      "parseOntology(hpf_ontology, hpf_flat)"
     ],
     "language": "python",
     "metadata": {},
     "outputs": [],
     "prompt_number": 88
    },
    {
     "cell_type": "code",
     "collapsed": false,
     "input": [
      "# keys correspond to all ontology ids within the anatomic region defined by the acronym  above\n",
      "\n",
      "print acronym_test\n",
      "\n",
      "hpf_flat.keys()\n",
      "\n",
      "# i think these retain the original ordering as well (haven't checked)"
     ],
     "language": "python",
     "metadata": {},
     "outputs": [
      {
       "output_type": "stream",
       "stream": "stdout",
       "text": [
        "HPF\n"
       ]
      },
      {
       "metadata": {},
       "output_type": "pyout",
       "prompt_number": 93,
       "text": [
        "[518,\n",
        " 1037,\n",
        " 526,\n",
        " 19,\n",
        " 20,\n",
        " 28,\n",
        " 543,\n",
        " 550,\n",
        " 52,\n",
        " 1080,\n",
        " 1084,\n",
        " 1089,\n",
        " 92,\n",
        " 1121,\n",
        " 1133,\n",
        " 632,\n",
        " 139,\n",
        " 664,\n",
        " 454,\n",
        " 712,\n",
        " 715,\n",
        " 726,\n",
        " 727,\n",
        " 10703,\n",
        " 734,\n",
        " 742,\n",
        " 743,\n",
        " 751,\n",
        " 758,\n",
        " 764,\n",
        " 766,\n",
        " 259,\n",
        " 775,\n",
        " 782,\n",
        " 790,\n",
        " 799,\n",
        " 807,\n",
        " 815,\n",
        " 822,\n",
        " 823,\n",
        " 312,\n",
        " 829,\n",
        " 324,\n",
        " 837,\n",
        " 843,\n",
        " 845,\n",
        " 853,\n",
        " 861,\n",
        " 870,\n",
        " 60,\n",
        " 371,\n",
        " 375,\n",
        " 382,\n",
        " 387,\n",
        " 391,\n",
        " 909,\n",
        " 399,\n",
        " 918,\n",
        " 407,\n",
        " 926,\n",
        " 415,\n",
        " 419,\n",
        " 934,\n",
        " 423,\n",
        " 431,\n",
        " 438,\n",
        " 446,\n",
        " 10693,\n",
        " 10694,\n",
        " 10695,\n",
        " 10696,\n",
        " 10697,\n",
        " 10698,\n",
        " 10699,\n",
        " 10700,\n",
        " 10701,\n",
        " 10702,\n",
        " 463,\n",
        " 10704,\n",
        " 468,\n",
        " 982,\n",
        " 471,\n",
        " 479,\n",
        " 486,\n",
        " 999,\n",
        " 495,\n",
        " 502,\n",
        " 504,\n",
        " 508,\n",
        " 509]"
       ]
      }
     ],
     "prompt_number": 93
    },
    {
     "cell_type": "code",
     "collapsed": false,
     "input": [],
     "language": "python",
     "metadata": {},
     "outputs": []
    }
   ],
   "metadata": {}
  }
 ]
}